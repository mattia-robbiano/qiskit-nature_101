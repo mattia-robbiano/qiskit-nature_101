{
 "cells": [
  {
   "cell_type": "code",
   "execution_count": 29,
   "metadata": {},
   "outputs": [
    {
     "name": "stdout",
     "output_type": "stream",
     "text": [
      "0.6.2\n",
      "2.3.0\n"
     ]
    }
   ],
   "source": [
    "#chech version of nature\n",
    "print(qiskit_nature.__version__)\n",
    "print(pyscf.__version__)\n"
   ]
  },
  {
   "attachments": {},
   "cell_type": "markdown",
   "metadata": {},
   "source": [
    "Build an ElectronicStructureProblem"
   ]
  },
  {
   "cell_type": "code",
   "execution_count": 2,
   "metadata": {},
   "outputs": [],
   "source": [
    "'''PySCFDriver is a class that allows to build a molecluar object in PySCF. We use it to compute the one body and two body integrals.'''\n",
    "from qiskit_nature.units import DistanceUnit\n",
    "from qiskit_nature.second_q.drivers import PySCFDriver\n",
    "\n",
    "driver = PySCFDriver(\n",
    "    atom=\"H 0 0 0; H 0 0 0.735\",\n",
    "    basis=\"sto3g\", #slater-type orbitals approximated with 3 gaussians\n",
    "    charge=0, #int chrge of the molecule\n",
    "    spin=0, #2S where S spin of the molecule\n",
    "    unit=DistanceUnit.ANGSTROM,\n",
    ")"
   ]
  },
  {
   "cell_type": "code",
   "execution_count": 3,
   "metadata": {},
   "outputs": [
    {
     "name": "stderr",
     "output_type": "stream",
     "text": [
      "/home/codespace/.python/current/lib/python3.10/site-packages/pyscf/dft/libxc.py:772: UserWarning: Since PySCF-2.3, B3LYP (and B3P86) are changed to the VWN-RPA variant, the same to the B3LYP functional in Gaussian and ORCA (issue 1480). To restore the VWN5 definition, you can put the setting \"B3LYP_WITH_VWN5 = True\" in pyscf_conf.py\n",
      "  warnings.warn('Since PySCF-2.3, B3LYP (and B3P86) are changed to the VWN-RPA variant, '\n"
     ]
    },
    {
     "name": "stdout",
     "output_type": "stream",
     "text": [
      "<qiskit_nature.second_q.problems.electronic_structure_problem.ElectronicStructureProblem object at 0x7f6e10bed1e0>\n"
     ]
    }
   ],
   "source": [
    "# Problem is a ElectronicStructureProblem object\n",
    "problem = driver.run()\n",
    "print(problem)"
   ]
  },
  {
   "cell_type": "code",
   "execution_count": null,
   "metadata": {},
   "outputs": [],
   "source": [
    "# The ElectonicStructureProblem object contains the hamiltonian of the molecule, and electronic integrals which the one and two body integrals\n",
    "hamiltonian = problem.hamiltonian\n",
    "coefficients = hamiltonian.electronic_integrals #one and two body integrals are 2d and 4d tensors respectively\n",
    "print(coefficients.alpha)"
   ]
  },
  {
   "cell_type": "code",
   "execution_count": null,
   "metadata": {},
   "outputs": [],
   "source": [
    "#The hamiltonian object contains the second quantized operator (the two summands of the hamiltonian). \n",
    "#This is the electronic part of the hamiltonian (nuclear repulsion energy will be added later as a constant, is available as hamiltonian.nuclear_repulsion_energy)\n",
    "fermionic_op = hamiltonian.second_q_op()\n",
    "print(fermionic_op)"
   ]
  },
  {
   "attachments": {},
   "cell_type": "markdown",
   "metadata": {},
   "source": [
    "Mapping the problem to qubit space"
   ]
  },
  {
   "cell_type": "code",
   "execution_count": 31,
   "metadata": {},
   "outputs": [],
   "source": [
    "'''Jordan-Wigner transformation maps the fermionic operators to unitary operators acting on qubits (https://arxiv.org/abs/2110.12792).\n",
    "Doing so, we can map the n-body fermionic operator to a circuit of n-qubit gates.\n",
    "'''\n",
    "'''EDIT: bug in qiskit_nature.second_q.transforms.qubit_mapper.py called by JordanWignerMapper. Calls to_do method on FermionicOp object, \n",
    "which is not implemented, as the note says. Another mapper should be used, e.g. ParityMapper'''\n",
    "\n",
    "from qiskit_nature.second_q.mappers import ParityMapper\n",
    "mapper = ParityMapper()"
   ]
  },
  {
   "cell_type": "code",
   "execution_count": null,
   "metadata": {},
   "outputs": [],
   "source": [
    "qubit_jw_op = mapper.map(fermionic_op)\n",
    "print(qubit_jw_op)"
   ]
  },
  {
   "cell_type": "markdown",
   "metadata": {},
   "source": [
    "Classical Solver"
   ]
  },
  {
   "cell_type": "code",
   "execution_count": null,
   "metadata": {},
   "outputs": [],
   "source": [
    "'''ow we need to define a solver, an algorithm that will find the ground state of the hamiltonian. \n",
    "One example is the NumPyEigensolver, which uses the NumPy sparse eigenvalue solver to compute the eigenvalues. This is a classical algorithm'''\n",
    "from qiskit.algorithms.eigensolvers import NumPyEigensolver\n",
    "\n",
    "numpy_solver = NumPyEigensolver(k=1)\n",
    "numpy_result = numpy_solver.compute_eigenvalues(qubit_jw_op)\n",
    "print(numpy_result)"
   ]
  }
 ],
 "metadata": {
  "kernelspec": {
   "display_name": "Python 3 (ipykernel)",
   "language": "python",
   "name": "python3"
  },
  "language_info": {
   "codemirror_mode": {
    "name": "ipython",
    "version": 3
   },
   "file_extension": ".py",
   "mimetype": "text/x-python",
   "name": "python",
   "nbconvert_exporter": "python",
   "pygments_lexer": "ipython3",
   "version": "3.10.8"
  },
  "orig_nbformat": 4
 },
 "nbformat": 4,
 "nbformat_minor": 2
}
